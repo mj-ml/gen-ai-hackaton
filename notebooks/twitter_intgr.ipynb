{
 "cells": [
  {
   "cell_type": "code",
   "execution_count": null,
   "metadata": {
    "id": "XV83arDSStLl"
   },
   "outputs": [],
   "source": [
    "import tweepy\n",
    "import os\n",
    "from google.colab import userdata\n",
    "\n",
    "consumer_key = userdata.get(\"TWITTER_CONSUMER_KEY\")\n",
    "consumer_secret = userdata.get(\"TWITTER_CONSUMER_SECRET\")\n",
    "access_token = userdata.get(\"TWITTER_ACCESS_TOKEN\")\n",
    "access_token_secret = userdata.get(\"TWITTER_ACCESS_TOKEN_SECRET\")\n",
    "\n",
    "if not all([consumer_key, consumer_secret, access_token, access_token_secret]):\n",
    "    raise ValueError(\"Twitter API credentials not found. Please set TWITTER_CONSUMER_KEY, TWITTER_CONSUMER_SECRET, TWITTER_ACCESS_TOKEN, and TWITTER_ACCESS_TOKEN_SECRET in Google Colab userdata.\")\n",
    "\n",
    "auth = tweepy.OAuthHandler(consumer_key, consumer_secret)\n",
    "auth.set_access_token(access_token, access_token_secret)\n",
    "\n",
    "api = tweepy.API(auth)\n",
    "\n",
    "try:\n",
    "    api.verify_credentials()\n",
    "    print(\"Authentication OK\")\n",
    "except Exception as e:\n",
    "    print(f\"Error during authentication: {e}\")"
   ]
  },
  {
   "cell_type": "code",
   "execution_count": null,
   "metadata": {
    "id": "gpijlopZS0rC"
   },
   "outputs": [],
   "source": [
    "@tool\n",
    "def twitter_search(query, num_tweets=5):\n",
    "    try:\n",
    "        tweets = api.search_tweets(q=query, count=num_tweets)\n",
    "        results = []\n",
    "        for tweet in tweets:\n",
    "            results.append(tweet.text)\n",
    "        return \"\\n\".join(results)\n",
    "    except Exception as e:\n",
    "        return f\"Error searching Twitter: {e}\""
   ]
  },
  {
   "cell_type": "code",
   "execution_count": null,
   "metadata": {
    "id": "hfMRTIQjS-mR"
   },
   "outputs": [],
   "source": [
    "from crewai import Crew\n",
    "\n",
    "crew = Crew(\n",
    "    agents=[Router_Agent, Retriever_Agent, Grader_agent, hallucination_grader, answer_grader],\n",
    "    tasks=[router_task, retriever_task, grader_task],\n",
    "    llm=llm,\n",
    "    verbose=True,\n",
    "    tools=[rag_tool, web_search_tool, twitter_search]\n",
    ")\n",
    "\n",
    "question = \"What are the different types of breast cancer?\"  \n",
    "result = crew.run(question=question)\n",
    "result"
   ]
  }
 ],
 "metadata": {
  "colab": {
   "provenance": []
  },
  "kernelspec": {
   "display_name": "Python 3",
   "name": "python3"
  },
  "language_info": {
   "name": "python"
  }
 },
 "nbformat": 4,
 "nbformat_minor": 0
}
